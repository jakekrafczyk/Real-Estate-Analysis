{
  "nbformat": 4,
  "nbformat_minor": 0,
  "metadata": {
    "colab": {
      "name": "pdf_to_dataframe.ipynb",
      "provenance": [],
      "authorship_tag": "ABX9TyMo4Cef2nXXK6aVNU/NB48T",
      "include_colab_link": true
    },
    "kernelspec": {
      "name": "python3",
      "display_name": "Python 3"
    }
  },
  "cells": [
    {
      "cell_type": "markdown",
      "metadata": {
        "id": "view-in-github",
        "colab_type": "text"
      },
      "source": [
        "<a href=\"https://colab.research.google.com/github/jakekrafczyk/Real-Estate-Analysis/blob/main/pdf_to_dataframe.ipynb\" target=\"_parent\"><img src=\"https://colab.research.google.com/assets/colab-badge.svg\" alt=\"Open In Colab\"/></a>"
      ]
    },
    {
      "cell_type": "code",
      "metadata": {
        "id": "RzY-Gxx9MnLj",
        "outputId": "954bf727-0806-4c64-b9c2-fe679fe9d9a2",
        "colab": {
          "base_uri": "https://localhost:8080/"
        }
      },
      "source": [
        "!pip install PyPDF2"
      ],
      "execution_count": null,
      "outputs": [
        {
          "output_type": "stream",
          "text": [
            "Collecting PyPDF2\n",
            "\u001b[?25l  Downloading https://files.pythonhosted.org/packages/b4/01/68fcc0d43daf4c6bdbc6b33cc3f77bda531c86b174cac56ef0ffdb96faab/PyPDF2-1.26.0.tar.gz (77kB)\n",
            "\r\u001b[K     |████▎                           | 10kB 20.1MB/s eta 0:00:01\r\u001b[K     |████████▌                       | 20kB 1.7MB/s eta 0:00:01\r\u001b[K     |████████████▊                   | 30kB 2.5MB/s eta 0:00:01\r\u001b[K     |█████████████████               | 40kB 3.2MB/s eta 0:00:01\r\u001b[K     |█████████████████████▏          | 51kB 2.0MB/s eta 0:00:01\r\u001b[K     |█████████████████████████▍      | 61kB 2.4MB/s eta 0:00:01\r\u001b[K     |█████████████████████████████▋  | 71kB 2.8MB/s eta 0:00:01\r\u001b[K     |████████████████████████████████| 81kB 2.5MB/s \n",
            "\u001b[?25hBuilding wheels for collected packages: PyPDF2\n",
            "  Building wheel for PyPDF2 (setup.py) ... \u001b[?25l\u001b[?25hdone\n",
            "  Created wheel for PyPDF2: filename=PyPDF2-1.26.0-cp36-none-any.whl size=61086 sha256=7b3e8e8c641bde47215277cac6e3947bf0af42b63b060c00721350e8686ddea6\n",
            "  Stored in directory: /root/.cache/pip/wheels/53/84/19/35bc977c8bf5f0c23a8a011aa958acd4da4bbd7a229315c1b7\n",
            "Successfully built PyPDF2\n",
            "Installing collected packages: PyPDF2\n",
            "Successfully installed PyPDF2-1.26.0\n"
          ],
          "name": "stdout"
        }
      ]
    },
    {
      "cell_type": "code",
      "metadata": {
        "id": "SxLlprHKNTUE"
      },
      "source": [
        "import pandas as pd\n",
        "import numpy as np\n",
        "import PyPDF2\n",
        "from google.colab import files"
      ],
      "execution_count": null,
      "outputs": []
    },
    {
      "cell_type": "code",
      "metadata": {
        "id": "7wsRMD2ZOCRT",
        "outputId": "a947cc85-9aa8-4608-a7d0-0d4e321b092f",
        "colab": {
          "resources": {
            "http://localhost:8080/nbextensions/google.colab/files.js": {
              "data": "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",
              "ok": true,
              "headers": [
                [
                  "content-type",
                  "application/javascript"
                ]
              ],
              "status": 200,
              "status_text": ""
            }
          },
          "base_uri": "https://localhost:8080/",
          "height": 38
        }
      },
      "source": [
        "uploaded = files.upload()"
      ],
      "execution_count": null,
      "outputs": [
        {
          "output_type": "display_data",
          "data": {
            "text/html": [
              "\n",
              "     <input type=\"file\" id=\"files-99395b4d-225f-4f6a-be0c-fe0a4a3afd15\" name=\"files[]\" multiple disabled\n",
              "        style=\"border:none\" />\n",
              "     <output id=\"result-99395b4d-225f-4f6a-be0c-fe0a4a3afd15\">\n",
              "      Upload widget is only available when the cell has been executed in the\n",
              "      current browser session. Please rerun this cell to enable.\n",
              "      </output>\n",
              "      <script src=\"/nbextensions/google.colab/files.js\"></script> "
            ],
            "text/plain": [
              "<IPython.core.display.HTML object>"
            ]
          },
          "metadata": {
            "tags": []
          }
        }
      ]
    },
    {
      "cell_type": "code",
      "metadata": {
        "id": "zZswlBr8NIYG"
      },
      "source": [
        "# open it and read it- PDF obtained from https://pittsburghpa.gov/finance/real-estate-tax-deq\n",
        "pdfFileObj = open('RE_WebPublishng_10-19-2020.pdf', 'rb')\n",
        "pdfReader = PyPDF2.PdfFileReader(pdfFileObj)"
      ],
      "execution_count": null,
      "outputs": []
    },
    {
      "cell_type": "code",
      "metadata": {
        "id": "pokbVas2Op4N",
        "outputId": "83b38bfc-d42d-4f9a-fb7e-23a5d9860f0d",
        "colab": {
          "base_uri": "https://localhost:8080/",
          "height": 171
        }
      },
      "source": [
        "# create page object and extract text\n",
        "pageObj = pdfReader.getPage(0)\n",
        "page1 = pageObj.extractText()\n",
        "page1"
      ],
      "execution_count": null,
      "outputs": [
        {
          "output_type": "execute_result",
          "data": {
            "application/vnd.google.colaboratory.intrinsic+json": {
              "type": "string"
            },
            "text/plain": [
              "'ACCT_NO\\nOWNERS\\nPROP_LOCATION\\nCURRENT_DELQ\\nPRIOR_DELQ\\nPRIOR_DELQ\\nCOMMENTS\\nTAX\\nTAX\\nPENALTIES\\n1010001C00228000100\\nTOWN DEVELOPMENT INC                            \\n100 FORBES AVE\\n$0.00\\n$2,047.17\\n$0.00\\n1010001C00228000200\\nTOWN DEVELOPMENT INC                            \\n424 STANWIX ST\\n$10,290.69\\n$14,443.62\\n$0.00\\n1010001C00228000400\\nTOWN DEVELOPMENT INC                            \\n424 STANWIX ST\\n$0.00\\n$32,735.42\\n$272.79\\n1010001D00117    00\\n502-510 LIBERTY AVE LP \\n502 LIBERTY AVE\\n$23,281.50\\n$0.00\\n$0.00\\n1010001D00144    00\\nALEX I LLC \\n431 MARKET ST\\n$4,648.99\\n$6,931.49\\n$462.09\\nPRIOR YEARS AT JORDAN 412-345-7960\\n1010001G00151    00\\nPITTSBURGH PRESS  BUILDING ASSOCIATES LP\\n34 BLVD OF THE ALLIES\\n$71,214.00\\n$0.00\\n$0.00\\n1010001G00224040500\\nZEGARELLI RONDA A \\n151 FORT PITT BLVD UNIT 405\\n$5,847.89\\n$0.00\\n$0.00\\n1010001G00224100100\\nELASH MARY \\n151 FORT PITT BLVD UNIT 1001\\n$7,166.27\\n$0.00\\n$0.00\\n1010001G00224100200\\nELASH MARY \\n151 FORT PITT BLVD UNIT 1002\\n$5,569.30\\n$8,430.69\\n$1,144.32\\nPRIOR YEARS AT JORDAN 412-345-7960\\n1010001G00224110100\\nREESE MONIQUE C & JAMES R (H)\\n151 FORT PITT BLVD UNIT 1101\\n$0.00\\n$2,577.30\\n$171.82\\n1010001G00224120500\\nLEONARDI JAMES \\n151 FORT PITT BLVD UNIT 1205\\n$3,778.00\\n$0.00\\n$0.00\\n1010001G00224140500\\nWYLIE LAUREN MARIE WYLIE RICHARD WILLIAM SR\\n151 FORT PITT BLVD UNIT 1405\\n$237.38\\n$0.00\\n$0.00\\n1010001G00224150500\\nGUISER GARY & CARRIE LEVITT (W)\\n151 FORT PITT BLVD UNIT 1505\\n$0.00\\n$2,688.10\\n$806.39\\nPRIOR YEARS AT JORDAN 412-345-7960\\n1010001H00051    00\\nCROWDAMERICA FORT PITT  L L C                   \\n221 1ST AVE\\n$1,433.61\\n$0.00\\n$0.00\\n1010001H00181001000\\nMR KC COMPANY LLC (THE) \\n223 4TH AVE UNIT 10\\n$0.00\\n$6,666.34\\n$643.55\\nPRIOR YEARS AT JORDAN 412-345-7960\\n1010001H00192000100\\nGLASGOW ANDREW D \\n411 WOOD ST\\n$5,719.04\\n$0.00\\n$0.00\\n1010001H00327070400\\nKUMAR AMRENDRA \\n300 4TH AVE UNIT 704\\n$639.10\\n$0.00\\n$0.00\\n1010001H00327110200\\nWESTERMAN DAVID M & NISHA D (W)\\n300 4TH AVE UNIT 1102\\n$7,212.70\\n$0.00\\n$0.00\\n1010001L00007    00\\nDEBONE BARRY J & MARIAN H (W)\\n211 FORT PITT BLVD\\n$5,432.68\\n$0.00\\n$0.00\\n1010001M00004    00\\nCROWDAMERICA FORT PITT  LLC                     \\n227 FORT PITT BLVD\\n$9,225.68\\n$0.00\\n$0.00\\n1010001M00005000100\\nCROWDAMERICA FORT PITT  L L C                   \\n231 FORT PITT BLVD\\n$2,186.81\\n$0.00\\n$0.00\\n1010001M00005000200\\nCROWDAMERICA FORT PITT  L L C                   \\n231 FORT PITT BLVD\\n$2,186.81\\n$0.00\\n$0.00\\n1010001M00005000300\\nCROWDAMERICA FORT PITT  L L C                   \\n231 FORT PITT BLVD\\n$2,186.81\\n$0.00\\n$0.00\\n1010001M00006    00\\nCROWDAMERICA FORT PITT  L L C                   \\n235 FORT PITT BLVD\\n$7,159.73\\n$0.00\\n$0.00\\n1010001M00038    00\\nFORT PITT ASSOCIATES LP \\n411 FORT PITT BLVD\\n$3,573.49\\n$2,367.97\\n$157.85\\nPRIOR YEARS AT JORDAN 412-345-7960\\n1010001M00041    00\\nFORT PITT ASSOCIATES LP \\n418 1ST AVE\\n$9,575.54\\n$6,345.24\\n$423.00\\nPRIOR YEARS AT JORDAN 412-345-7960\\n1010001M00052    00\\n422 FIRST AVE LP ETAL\\n432 1ST AVE\\n$15,815.00\\n$30,239.72\\n$4,556.79\\nPRIOR YEARS AT JORDAN 412-345-7960\\n1010001M00054    00\\nFORT PITT ASSOCIATES LP \\n414 1ST AVE\\n$4,506.57\\n$2,986.28\\n$199.08\\nPRIOR YEARS AT JORDAN 412-345-7960\\n1010001M00055000100\\nFORT PITT ASSOCIATES LP \\n414 1ST AVE\\n$1,818.70\\n$1,205.16\\n$80.35\\nPRIOR YEARS AT JORDAN 412-345-7960\\n1010001M00122    00\\nGLASGOW ANDREW D \\n111 SMITHFIELD ST\\n$5,063.51\\n$0.00\\n$0.00\\n1010001M00176    00\\nPBM PARTNERS LLC \\n205 SMITHFIELD ST\\n$36,154.80\\n$0.00\\n$0.00\\n1010002G00010    00\\nHYMAN BARUCH  & TAIBKE (W)\\n1018 5TH AVE\\n$2,836.39\\n$34.96\\n$2.34\\nPRIOR YEARS AT JORDAN 412-345-7960\\n1010002G00025    00\\nWILLIAMS SAL & IRENE (W) \\n1108 5TH AVE\\n$1,835.14\\n$1,824.08\\n$121.61\\nPRIOR YEARS AT JORDAN 412-345-7960\\n1010002G00026    00\\nWILLIAMS SAL  & IRENE (W)\\n1108 5TH AVE\\n$1,870.57\\n$0.00\\n$0.00\\n1010002G00051    00\\nPITTSBURGH REAL ESTATE  TEAM INC\\n1334 5TH AVE\\n$3,684.88\\n$6,077.50\\n$624.33\\nPRIOR YEARS AT JORDAN 412-345-7960\\n1010002H00009    00\\n1400 FIFTH AVENUE \\n1400 5TH AVE\\n$5,315.50\\n$0.00\\n$0.00\\n1010002H00022    00\\nJ & H COMMERCIAL HOLDINGS LL\\n1450 5TH AVE\\n$0.00\\n$8,753.75\\n$948.28\\n1010002H00030    00\\nCBX INVESTMENT PARTNERS  IX LP\\n0 5TH AVE\\n$578.85\\n$0.00\\n$0.00\\n1010002H00031    00\\nCBX INVESTMENT PARTNERS  IX LP\\n1514 5TH AVE\\n$5,925.38\\n$0.00\\n$0.00\\n1010002H00033    00\\nBEIZAEI PROPERTIES LLC \\n1516 5TH AVE\\n$0.00\\n$4,283.40\\n$285.55\\n1010002H00035    00\\nBEIZAEI PROPERTIES LLC \\n1522 5TH AVE\\n$0.00\\n$2,855.00\\n$190.32\\n1010002H00035A   00\\nMERANTE PASQUALE \\n6 MARION ST\\n$0.00\\n$1,633.51\\n$108.90\\nPRIOR YEARS AT JORDAN 412-345-7960\\n1010002H00041    00\\nWILLIAMS SAL & IRENE \\n1612 5TH AVE\\n$648.05\\n$0.00\\n$0.00\\n1010002H00041A   00\\nUPTOWN DEVELOPMENT #1 LP \\n1611 WATSON ST\\n$351.33\\n$0.00\\n$0.00\\n1010002H00042    00\\nWILLIAMS SAL                                    \\n1614 5TH AVE\\n$403.55\\n$0.00\\n$0.00\\n1010002H00044    00\\nWILLIAMS SAL & IRENE (W) \\n1618 5TH AVE\\n$403.56\\n$0.00\\n$0.00\\n1010002H00045    00\\nWILLIAMS SAL \\n1620 5TH AVE\\n$18.99\\n$0.00\\n$0.00\\n1010002J00049    00\\nBEAU C & ASSOCIATES              \\n310 ROSS ST\\n$8,490.92\\n$0.00\\n$0.00\\n1010002J00152    00\\nLIN CHAN YEE FAMILY  TRUST                   \\n520 3RD AVE\\n$4,747.60\\n$0.00\\n$0.00\\n1010002J00153    00\\nLIN CHAN YEE FAMILY  TRUST                   \\n522 3RD AVE\\n$7,851.80\\n$0.00\\n$0.00\\n1010002J00155    00\\nLIN CHAN YEE FAMILY  TRUST                   \\n524 3RD AVE\\n$1,460.82\\n$0.00\\n$0.00\\n1010002J00156    00\\nGLASGOW ANDREW D & TATIANA V RYKOVA (W)\\n527 COURT PL\\n$5,200.45\\n$0.00\\n$0.00\\n'"
            ]
          },
          "metadata": {
            "tags": []
          },
          "execution_count": 14
        }
      ]
    },
    {
      "cell_type": "code",
      "metadata": {
        "id": "fLFipM3xjQLw"
      },
      "source": [
        "def clean_page(anypage):\n",
        "  # clean headers\n",
        "  anypage = anypage[91:]\n",
        "\n",
        "  # clean out \"comments\" column to ensure an equal amount of value in every row \n",
        "  clean_page = anypage.replace('PRIOR YEARS AT JORDAN 412-345-7960\\n','' ).replace('\\n',', ')\n",
        "\n",
        "  # clean off comma at the end\n",
        "  clean_page = clean_page[:-2]\n",
        "\n",
        "  # use split to divide into list\n",
        "  page_list = clean_page.split(\", \")\n",
        "\n",
        "  # return cleaned list\n",
        "  return page_list\n",
        "\n",
        "page_list = clean_page(page1)"
      ],
      "execution_count": null,
      "outputs": []
    },
    {
      "cell_type": "code",
      "metadata": {
        "id": "3IA3Y9fnUsNU",
        "outputId": "a06dbf67-625f-456d-825f-6e2b3918ebb6",
        "colab": {
          "base_uri": "https://localhost:8080/",
          "height": 1000
        }
      },
      "source": [
        "import re\n",
        "df = pd.DataFrame(columns=['ID','Owner','Address','Curr_Dlq_Tax','Prior_Dlq_Tax','Prior_Dlq_Pnlty'])\n",
        "\n",
        "for x in page_list:\n",
        "  if count < 5 and count > 0:\n",
        "    clean_list.append(x.strip())\n",
        "    count += 1\n",
        "\n",
        "  elif count == 5:\n",
        "    clean_list.append(x.strip())\n",
        "    count += 1\n",
        "\n",
        "    # add list as a row\n",
        "    df_length = len(df)\n",
        "    df.loc[df_length] = clean_list\n",
        "\n",
        "  else:\n",
        "    # reset list and counter\n",
        "    count = 0\n",
        "    clean_list = []\n",
        "\n",
        "    # clean out whitespace between digits and delete the first 3 digits then add to list\n",
        "    clean_list.append(re.sub(r\"\\s+\", \"\", x, flags=re.UNICODE)[3:])\n",
        "    count += 1\n",
        "\n",
        "print(df.tail())\n",
        "df"
      ],
      "execution_count": null,
      "outputs": [
        {
          "output_type": "stream",
          "text": [
            "              ID  ... Prior_Dlq_Pnlty\n",
            "32  0033M0019300  ...         $165.63\n",
            "33  0033M0019800  ...           $0.00\n",
            "34  0033M0029800  ...          $67.72\n",
            "35  0033R0000700  ...           $0.00\n",
            "36  0033S0006000  ...          $16.61\n",
            "\n",
            "[5 rows x 6 columns]\n"
          ],
          "name": "stdout"
        },
        {
          "output_type": "execute_result",
          "data": {
            "text/html": [
              "<div>\n",
              "<style scoped>\n",
              "    .dataframe tbody tr th:only-of-type {\n",
              "        vertical-align: middle;\n",
              "    }\n",
              "\n",
              "    .dataframe tbody tr th {\n",
              "        vertical-align: top;\n",
              "    }\n",
              "\n",
              "    .dataframe thead th {\n",
              "        text-align: right;\n",
              "    }\n",
              "</style>\n",
              "<table border=\"1\" class=\"dataframe\">\n",
              "  <thead>\n",
              "    <tr style=\"text-align: right;\">\n",
              "      <th></th>\n",
              "      <th>ID</th>\n",
              "      <th>Owner</th>\n",
              "      <th>Address</th>\n",
              "      <th>Curr_Dlq_Tax</th>\n",
              "      <th>Prior_Dlq_Tax</th>\n",
              "      <th>Prior_Dlq_Pnlty</th>\n",
              "    </tr>\n",
              "  </thead>\n",
              "  <tbody>\n",
              "    <tr>\n",
              "      <th>0</th>\n",
              "      <td>0033L0013000</td>\n",
              "      <td>PARKS JESSICA JOYCE</td>\n",
              "      <td>209 QUINCY AVE</td>\n",
              "      <td>$278.61</td>\n",
              "      <td>$0.00</td>\n",
              "      <td>$0.00</td>\n",
              "    </tr>\n",
              "    <tr>\n",
              "      <th>1</th>\n",
              "      <td>0033L0013100</td>\n",
              "      <td>SCHUCHERT DAVID R &amp; DONNA E (W)</td>\n",
              "      <td>207 QUINCY AVE</td>\n",
              "      <td>$400.00</td>\n",
              "      <td>$512.11</td>\n",
              "      <td>$46.77</td>\n",
              "    </tr>\n",
              "    <tr>\n",
              "      <th>2</th>\n",
              "      <td>0033L0013500</td>\n",
              "      <td>OKOYE CLEMENT</td>\n",
              "      <td>125 QUINCY AVE</td>\n",
              "      <td>$388.05</td>\n",
              "      <td>$0.00</td>\n",
              "      <td>$0.00</td>\n",
              "    </tr>\n",
              "    <tr>\n",
              "      <th>3</th>\n",
              "      <td>0033L0022100</td>\n",
              "      <td>SCOTT LEGACY  INVESTMENTS LLC</td>\n",
              "      <td>208 ONYX AVE</td>\n",
              "      <td>$153.24</td>\n",
              "      <td>$0.00</td>\n",
              "      <td>$0.00</td>\n",
              "    </tr>\n",
              "    <tr>\n",
              "      <th>4</th>\n",
              "      <td>0033L0022300</td>\n",
              "      <td>LAURE GEORGE M JR &amp; DEBORAH (W)</td>\n",
              "      <td>212 ONYX AVE</td>\n",
              "      <td>$399.00</td>\n",
              "      <td>$4,955.28</td>\n",
              "      <td>$2,881.53</td>\n",
              "    </tr>\n",
              "    <tr>\n",
              "      <th>5</th>\n",
              "      <td>0033L0022400</td>\n",
              "      <td>KAUKMAS PAUL</td>\n",
              "      <td>214 ONYX AVE</td>\n",
              "      <td>$406.96</td>\n",
              "      <td>$409.76</td>\n",
              "      <td>$28.10</td>\n",
              "    </tr>\n",
              "    <tr>\n",
              "      <th>6</th>\n",
              "      <td>0033L0022500</td>\n",
              "      <td>R&amp;T INVESTS LLC</td>\n",
              "      <td>216 ONYX AVE</td>\n",
              "      <td>$398.01</td>\n",
              "      <td>$393.60</td>\n",
              "      <td>$26.24</td>\n",
              "    </tr>\n",
              "    <tr>\n",
              "      <th>7</th>\n",
              "      <td>0033L0023100</td>\n",
              "      <td>MARK JAMES II TRUST</td>\n",
              "      <td>302 ONYX AVE</td>\n",
              "      <td>$228.86</td>\n",
              "      <td>$4,549.09</td>\n",
              "      <td>$3,194.80</td>\n",
              "    </tr>\n",
              "    <tr>\n",
              "      <th>8</th>\n",
              "      <td>0033L0023400</td>\n",
              "      <td>IMPELL SCOTT</td>\n",
              "      <td>308 ONYX AVE</td>\n",
              "      <td>$293.53</td>\n",
              "      <td>$0.00</td>\n",
              "      <td>$0.00</td>\n",
              "    </tr>\n",
              "    <tr>\n",
              "      <th>9</th>\n",
              "      <td>0033L0024300</td>\n",
              "      <td>BEAM EDWARD J &amp; NORMA J</td>\n",
              "      <td>326 ONYX AVE</td>\n",
              "      <td>$293.53</td>\n",
              "      <td>$9,131.10</td>\n",
              "      <td>$9,780.45</td>\n",
              "    </tr>\n",
              "    <tr>\n",
              "      <th>10</th>\n",
              "      <td>0033L0024400</td>\n",
              "      <td>BOBAN FRANK J &amp; ELEANOR</td>\n",
              "      <td>328 ONYX AVE</td>\n",
              "      <td>$87.93</td>\n",
              "      <td>$0.00</td>\n",
              "      <td>$0.00</td>\n",
              "    </tr>\n",
              "    <tr>\n",
              "      <th>11</th>\n",
              "      <td>0033L0027300</td>\n",
              "      <td>NIECGORSKI WALTER L &amp; VICTORIA S (W)</td>\n",
              "      <td>215 ONYX AVE</td>\n",
              "      <td>$9.95</td>\n",
              "      <td>$3,225.68</td>\n",
              "      <td>$3,038.67</td>\n",
              "    </tr>\n",
              "    <tr>\n",
              "      <th>12</th>\n",
              "      <td>0033L0028000</td>\n",
              "      <td>ZGURICH MICHAEL  &amp; KATHLEEN A ZGURICH</td>\n",
              "      <td>201 ONYX AVE</td>\n",
              "      <td>$0.00</td>\n",
              "      <td>$31.99</td>\n",
              "      <td>$2.13</td>\n",
              "    </tr>\n",
              "    <tr>\n",
              "      <th>13</th>\n",
              "      <td>0033L0029200</td>\n",
              "      <td>MUSTANG INVESTMENTS LLC</td>\n",
              "      <td>111 RUSTIC AVE</td>\n",
              "      <td>$417.90</td>\n",
              "      <td>$413.28</td>\n",
              "      <td>$27.55</td>\n",
              "    </tr>\n",
              "    <tr>\n",
              "      <th>14</th>\n",
              "      <td>0033L0029400</td>\n",
              "      <td>DAVIS TRICIA</td>\n",
              "      <td>203 RUSTIC AVE</td>\n",
              "      <td>$0.00</td>\n",
              "      <td>$270.47</td>\n",
              "      <td>$160.02</td>\n",
              "    </tr>\n",
              "    <tr>\n",
              "      <th>15</th>\n",
              "      <td>0033L0032700</td>\n",
              "      <td>BRICKLEY FAMILY LP</td>\n",
              "      <td>609 TRANSVERSE AVE</td>\n",
              "      <td>$375.12</td>\n",
              "      <td>$0.00</td>\n",
              "      <td>$0.00</td>\n",
              "    </tr>\n",
              "    <tr>\n",
              "      <th>16</th>\n",
              "      <td>0033L0033900</td>\n",
              "      <td>LAUTERBACH JOSEPH</td>\n",
              "      <td>600 HAYS AVE</td>\n",
              "      <td>$289.55</td>\n",
              "      <td>$770.54</td>\n",
              "      <td>$121.96</td>\n",
              "    </tr>\n",
              "    <tr>\n",
              "      <th>17</th>\n",
              "      <td>0033L0035500</td>\n",
              "      <td>DRY CREEK LAND LP</td>\n",
              "      <td>200 RUSTIC AVE</td>\n",
              "      <td>$196.02</td>\n",
              "      <td>$6,241.93</td>\n",
              "      <td>$5,344.55</td>\n",
              "    </tr>\n",
              "    <tr>\n",
              "      <th>18</th>\n",
              "      <td>0033L0035600</td>\n",
              "      <td>CONNORS TIMOTHY J</td>\n",
              "      <td>112 FULTON PL</td>\n",
              "      <td>$359.20</td>\n",
              "      <td>$355.22</td>\n",
              "      <td>$23.68</td>\n",
              "    </tr>\n",
              "    <tr>\n",
              "      <th>19</th>\n",
              "      <td>0033L0036300</td>\n",
              "      <td>EPPERSON EDWARD L</td>\n",
              "      <td>305 GIFFIN AVE</td>\n",
              "      <td>$0.00</td>\n",
              "      <td>$17.85</td>\n",
              "      <td>$3.13</td>\n",
              "    </tr>\n",
              "    <tr>\n",
              "      <th>20</th>\n",
              "      <td>0033L0036600</td>\n",
              "      <td>RITSON JAMES J &amp; LINDA L MCCULLOUGH</td>\n",
              "      <td>315 GIFFIN AVE</td>\n",
              "      <td>$0.00</td>\n",
              "      <td>$268.54</td>\n",
              "      <td>$17.90</td>\n",
              "    </tr>\n",
              "    <tr>\n",
              "      <th>21</th>\n",
              "      <td>0033M0001200</td>\n",
              "      <td>KNERR PAUL F &amp; JANET A (W)</td>\n",
              "      <td>0 KESSLER ST</td>\n",
              "      <td>$185.07</td>\n",
              "      <td>$3,993.30</td>\n",
              "      <td>$3,986.36</td>\n",
              "    </tr>\n",
              "    <tr>\n",
              "      <th>22</th>\n",
              "      <td>0033M0002900</td>\n",
              "      <td>URBAN EVOLUTION LLC</td>\n",
              "      <td>645 MARGARET ST</td>\n",
              "      <td>$359.20</td>\n",
              "      <td>$0.00</td>\n",
              "      <td>$0.00</td>\n",
              "    </tr>\n",
              "    <tr>\n",
              "      <th>23</th>\n",
              "      <td>0033M0003500</td>\n",
              "      <td>HROMIKO LAWRENCE A &amp; PATRICIA M (W)</td>\n",
              "      <td>635 MARGARET ST</td>\n",
              "      <td>$290.55</td>\n",
              "      <td>$0.00</td>\n",
              "      <td>$0.00</td>\n",
              "    </tr>\n",
              "    <tr>\n",
              "      <th>24</th>\n",
              "      <td>0033M0004400</td>\n",
              "      <td>GRANDMA ROSE'S LLC</td>\n",
              "      <td>636 MARGARET ST</td>\n",
              "      <td>$352.24</td>\n",
              "      <td>$696.66</td>\n",
              "      <td>$84.18</td>\n",
              "    </tr>\n",
              "    <tr>\n",
              "      <th>25</th>\n",
              "      <td>0033M0005500</td>\n",
              "      <td>GMUER JASON</td>\n",
              "      <td>656 MARGARET ST</td>\n",
              "      <td>$259.70</td>\n",
              "      <td>$0.00</td>\n",
              "      <td>$0.00</td>\n",
              "    </tr>\n",
              "    <tr>\n",
              "      <th>26</th>\n",
              "      <td>0033M0008800</td>\n",
              "      <td>BENEDIK EUGENE A &amp; CAROL ANN</td>\n",
              "      <td>656 MARGARET ST</td>\n",
              "      <td>$66.23</td>\n",
              "      <td>$0.00</td>\n",
              "      <td>$0.00</td>\n",
              "    </tr>\n",
              "    <tr>\n",
              "      <th>27</th>\n",
              "      <td>0033M0011100</td>\n",
              "      <td>CARLSON DONALD M</td>\n",
              "      <td>517 HERVEY ST</td>\n",
              "      <td>$416.91</td>\n",
              "      <td>$0.00</td>\n",
              "      <td>$0.00</td>\n",
              "    </tr>\n",
              "    <tr>\n",
              "      <th>28</th>\n",
              "      <td>0033M0012200</td>\n",
              "      <td>KENNEDY JOHN J</td>\n",
              "      <td>500 GIFFIN AVE</td>\n",
              "      <td>$545.26</td>\n",
              "      <td>$1,078.46</td>\n",
              "      <td>$130.31</td>\n",
              "    </tr>\n",
              "    <tr>\n",
              "      <th>29</th>\n",
              "      <td>0033M0012600</td>\n",
              "      <td>SHAWHAN WILLIAM J</td>\n",
              "      <td>508 GIFFIN AVE</td>\n",
              "      <td>$211.51</td>\n",
              "      <td>$0.00</td>\n",
              "      <td>$0.00</td>\n",
              "    </tr>\n",
              "    <tr>\n",
              "      <th>30</th>\n",
              "      <td>0033M0018600</td>\n",
              "      <td>QUIDETTO SHAWN</td>\n",
              "      <td>533 GIFFIN AVE</td>\n",
              "      <td>$135.88</td>\n",
              "      <td>$2,706.57</td>\n",
              "      <td>$1,796.50</td>\n",
              "    </tr>\n",
              "    <tr>\n",
              "      <th>31</th>\n",
              "      <td>0033M0018700</td>\n",
              "      <td>LUFFY MELISSA ANN</td>\n",
              "      <td>531 GIFFIN AVE</td>\n",
              "      <td>$186.63</td>\n",
              "      <td>$0.00</td>\n",
              "      <td>$0.00</td>\n",
              "    </tr>\n",
              "    <tr>\n",
              "      <th>32</th>\n",
              "      <td>0033M0019300</td>\n",
              "      <td>MALLOY RITA A</td>\n",
              "      <td>519 GIFFIN AVE</td>\n",
              "      <td>$66.23</td>\n",
              "      <td>$418.18</td>\n",
              "      <td>$165.63</td>\n",
              "    </tr>\n",
              "    <tr>\n",
              "      <th>33</th>\n",
              "      <td>0033M0019800</td>\n",
              "      <td>KACHMAR RONALD R &amp; LYNETTE M (W)</td>\n",
              "      <td>509 GIFFIN AVE</td>\n",
              "      <td>$71.21</td>\n",
              "      <td>$0.00</td>\n",
              "      <td>$0.00</td>\n",
              "    </tr>\n",
              "    <tr>\n",
              "      <th>34</th>\n",
              "      <td>0033M0029800</td>\n",
              "      <td>LEDDY ROBERT N &amp; NANCY L</td>\n",
              "      <td>910 TRANSVERSE AVE</td>\n",
              "      <td>$145.27</td>\n",
              "      <td>$406.92</td>\n",
              "      <td>$67.72</td>\n",
              "    </tr>\n",
              "    <tr>\n",
              "      <th>35</th>\n",
              "      <td>0033R0000700</td>\n",
              "      <td>LOVE NICOLE</td>\n",
              "      <td>312 QUINCY AVE</td>\n",
              "      <td>$473.62</td>\n",
              "      <td>$0.00</td>\n",
              "      <td>$0.00</td>\n",
              "    </tr>\n",
              "    <tr>\n",
              "      <th>36</th>\n",
              "      <td>0033S0006000</td>\n",
              "      <td>REICHARD LISA H</td>\n",
              "      <td>0 TRANSVERSE AVE</td>\n",
              "      <td>$0.00</td>\n",
              "      <td>$53.14</td>\n",
              "      <td>$16.61</td>\n",
              "    </tr>\n",
              "  </tbody>\n",
              "</table>\n",
              "</div>"
            ],
            "text/plain": [
              "              ID  ... Prior_Dlq_Pnlty\n",
              "0   0033L0013000  ...           $0.00\n",
              "1   0033L0013100  ...          $46.77\n",
              "2   0033L0013500  ...           $0.00\n",
              "3   0033L0022100  ...           $0.00\n",
              "4   0033L0022300  ...       $2,881.53\n",
              "5   0033L0022400  ...          $28.10\n",
              "6   0033L0022500  ...          $26.24\n",
              "7   0033L0023100  ...       $3,194.80\n",
              "8   0033L0023400  ...           $0.00\n",
              "9   0033L0024300  ...       $9,780.45\n",
              "10  0033L0024400  ...           $0.00\n",
              "11  0033L0027300  ...       $3,038.67\n",
              "12  0033L0028000  ...           $2.13\n",
              "13  0033L0029200  ...          $27.55\n",
              "14  0033L0029400  ...         $160.02\n",
              "15  0033L0032700  ...           $0.00\n",
              "16  0033L0033900  ...         $121.96\n",
              "17  0033L0035500  ...       $5,344.55\n",
              "18  0033L0035600  ...          $23.68\n",
              "19  0033L0036300  ...           $3.13\n",
              "20  0033L0036600  ...          $17.90\n",
              "21  0033M0001200  ...       $3,986.36\n",
              "22  0033M0002900  ...           $0.00\n",
              "23  0033M0003500  ...           $0.00\n",
              "24  0033M0004400  ...          $84.18\n",
              "25  0033M0005500  ...           $0.00\n",
              "26  0033M0008800  ...           $0.00\n",
              "27  0033M0011100  ...           $0.00\n",
              "28  0033M0012200  ...         $130.31\n",
              "29  0033M0012600  ...           $0.00\n",
              "30  0033M0018600  ...       $1,796.50\n",
              "31  0033M0018700  ...           $0.00\n",
              "32  0033M0019300  ...         $165.63\n",
              "33  0033M0019800  ...           $0.00\n",
              "34  0033M0029800  ...          $67.72\n",
              "35  0033R0000700  ...           $0.00\n",
              "36  0033S0006000  ...          $16.61\n",
              "\n",
              "[37 rows x 6 columns]"
            ]
          },
          "metadata": {
            "tags": []
          },
          "execution_count": 36
        }
      ]
    },
    {
      "cell_type": "code",
      "metadata": {
        "id": "7IWCCLO-g2x6",
        "outputId": "5563d4a0-b058-42d7-8a81-58b4e9191ec0",
        "colab": {
          "base_uri": "https://localhost:8080/",
          "height": 453
        }
      },
      "source": [
        "# create dataframe for the cleaned pdf values, then iterate through every value in the pdf\n",
        "\n",
        "df = pd.DataFrame(columns=['ID','Owner','Address','Curr_Dlq_Tax','Prior_Dlq_Tax','Prior_Dlq_Pnlty'])\n",
        "\n",
        "for page_num in range(0, 416):\n",
        "  pageObj = pdfReader.getPage(page_num)\n",
        "  page = pageObj.extractText()\n",
        "\n",
        "  page_list = clean_page(page)\n",
        "\n",
        "  clean_list = []\n",
        "\n",
        "  count = 0\n",
        "  for x in page_list:\n",
        "    if count < 5 and count > 0:\n",
        "      clean_list.append(x.strip())\n",
        "      count += 1\n",
        "\n",
        "    elif count == 5:\n",
        "      clean_list.append(x.strip())\n",
        "      count += 1\n",
        "\n",
        "      # add list as a row\n",
        "      df_length = len(df)\n",
        "      df.loc[df_length] = clean_list\n",
        "\n",
        "    else:\n",
        "      # reset list and counter\n",
        "      count = 0\n",
        "      clean_list = []\n",
        "\n",
        "      # add entry\n",
        "      clean_list.append(re.sub(r\"\\s+\", \"\", x, flags=re.UNICODE)[3:])\n",
        "      count += 1\n",
        "\n",
        "df"
      ],
      "execution_count": null,
      "outputs": [
        {
          "output_type": "execute_result",
          "data": {
            "text/html": [
              "<div>\n",
              "<style scoped>\n",
              "    .dataframe tbody tr th:only-of-type {\n",
              "        vertical-align: middle;\n",
              "    }\n",
              "\n",
              "    .dataframe tbody tr th {\n",
              "        vertical-align: top;\n",
              "    }\n",
              "\n",
              "    .dataframe thead th {\n",
              "        text-align: right;\n",
              "    }\n",
              "</style>\n",
              "<table border=\"1\" class=\"dataframe\">\n",
              "  <thead>\n",
              "    <tr style=\"text-align: right;\">\n",
              "      <th></th>\n",
              "      <th>ID</th>\n",
              "      <th>Owner</th>\n",
              "      <th>Address</th>\n",
              "      <th>Curr_Dlq_Tax</th>\n",
              "      <th>Prior_Dlq_Tax</th>\n",
              "      <th>Prior_Dlq_Pnlty</th>\n",
              "    </tr>\n",
              "  </thead>\n",
              "  <tbody>\n",
              "    <tr>\n",
              "      <th>0</th>\n",
              "      <td>0001C00228000100</td>\n",
              "      <td>TOWN DEVELOPMENT INC</td>\n",
              "      <td>100 FORBES AVE</td>\n",
              "      <td>$0.00</td>\n",
              "      <td>$2,047.17</td>\n",
              "      <td>$0.00</td>\n",
              "    </tr>\n",
              "    <tr>\n",
              "      <th>1</th>\n",
              "      <td>0001C00228000200</td>\n",
              "      <td>TOWN DEVELOPMENT INC</td>\n",
              "      <td>424 STANWIX ST</td>\n",
              "      <td>$10,290.69</td>\n",
              "      <td>$14,443.62</td>\n",
              "      <td>$0.00</td>\n",
              "    </tr>\n",
              "    <tr>\n",
              "      <th>2</th>\n",
              "      <td>0001C00228000400</td>\n",
              "      <td>TOWN DEVELOPMENT INC</td>\n",
              "      <td>424 STANWIX ST</td>\n",
              "      <td>$0.00</td>\n",
              "      <td>$32,735.42</td>\n",
              "      <td>$272.79</td>\n",
              "    </tr>\n",
              "    <tr>\n",
              "      <th>3</th>\n",
              "      <td>0001D0011700</td>\n",
              "      <td>502-510 LIBERTY AVE LP</td>\n",
              "      <td>502 LIBERTY AVE</td>\n",
              "      <td>$23,281.50</td>\n",
              "      <td>$0.00</td>\n",
              "      <td>$0.00</td>\n",
              "    </tr>\n",
              "    <tr>\n",
              "      <th>4</th>\n",
              "      <td>0001D0014400</td>\n",
              "      <td>ALEX I LLC</td>\n",
              "      <td>431 MARKET ST</td>\n",
              "      <td>$4,648.99</td>\n",
              "      <td>$6,931.49</td>\n",
              "      <td>$462.09</td>\n",
              "    </tr>\n",
              "    <tr>\n",
              "      <th>...</th>\n",
              "      <td>...</td>\n",
              "      <td>...</td>\n",
              "      <td>...</td>\n",
              "      <td>...</td>\n",
              "      <td>...</td>\n",
              "      <td>...</td>\n",
              "    </tr>\n",
              "    <tr>\n",
              "      <th>21612</th>\n",
              "      <td>0033M0019300</td>\n",
              "      <td>MALLOY RITA A</td>\n",
              "      <td>519 GIFFIN AVE</td>\n",
              "      <td>$66.23</td>\n",
              "      <td>$418.18</td>\n",
              "      <td>$165.63</td>\n",
              "    </tr>\n",
              "    <tr>\n",
              "      <th>21613</th>\n",
              "      <td>0033M0019800</td>\n",
              "      <td>KACHMAR RONALD R &amp; LYNETTE M (W)</td>\n",
              "      <td>509 GIFFIN AVE</td>\n",
              "      <td>$71.21</td>\n",
              "      <td>$0.00</td>\n",
              "      <td>$0.00</td>\n",
              "    </tr>\n",
              "    <tr>\n",
              "      <th>21614</th>\n",
              "      <td>0033M0029800</td>\n",
              "      <td>LEDDY ROBERT N &amp; NANCY L</td>\n",
              "      <td>910 TRANSVERSE AVE</td>\n",
              "      <td>$145.27</td>\n",
              "      <td>$406.92</td>\n",
              "      <td>$67.72</td>\n",
              "    </tr>\n",
              "    <tr>\n",
              "      <th>21615</th>\n",
              "      <td>0033R0000700</td>\n",
              "      <td>LOVE NICOLE</td>\n",
              "      <td>312 QUINCY AVE</td>\n",
              "      <td>$473.62</td>\n",
              "      <td>$0.00</td>\n",
              "      <td>$0.00</td>\n",
              "    </tr>\n",
              "    <tr>\n",
              "      <th>21616</th>\n",
              "      <td>0033S0006000</td>\n",
              "      <td>REICHARD LISA H</td>\n",
              "      <td>0 TRANSVERSE AVE</td>\n",
              "      <td>$0.00</td>\n",
              "      <td>$53.14</td>\n",
              "      <td>$16.61</td>\n",
              "    </tr>\n",
              "  </tbody>\n",
              "</table>\n",
              "<p>21617 rows × 6 columns</p>\n",
              "</div>"
            ],
            "text/plain": [
              "                     ID  ... Prior_Dlq_Pnlty\n",
              "0      0001C00228000100  ...           $0.00\n",
              "1      0001C00228000200  ...           $0.00\n",
              "2      0001C00228000400  ...         $272.79\n",
              "3          0001D0011700  ...           $0.00\n",
              "4          0001D0014400  ...         $462.09\n",
              "...                 ...  ...             ...\n",
              "21612      0033M0019300  ...         $165.63\n",
              "21613      0033M0019800  ...           $0.00\n",
              "21614      0033M0029800  ...          $67.72\n",
              "21615      0033R0000700  ...           $0.00\n",
              "21616      0033S0006000  ...          $16.61\n",
              "\n",
              "[21617 rows x 6 columns]"
            ]
          },
          "metadata": {
            "tags": []
          },
          "execution_count": 37
        }
      ]
    },
    {
      "cell_type": "code",
      "metadata": {
        "id": "V6BxoAnuV0T3",
        "outputId": "a2e0a811-6fc6-44b1-de09-085e724e03da",
        "colab": {
          "base_uri": "https://localhost:8080/",
          "height": 80
        }
      },
      "source": [
        "df.loc[[2411]]\n",
        "# 2411"
      ],
      "execution_count": null,
      "outputs": [
        {
          "output_type": "execute_result",
          "data": {
            "text/html": [
              "<div>\n",
              "<style scoped>\n",
              "    .dataframe tbody tr th:only-of-type {\n",
              "        vertical-align: middle;\n",
              "    }\n",
              "\n",
              "    .dataframe tbody tr th {\n",
              "        vertical-align: top;\n",
              "    }\n",
              "\n",
              "    .dataframe thead th {\n",
              "        text-align: right;\n",
              "    }\n",
              "</style>\n",
              "<table border=\"1\" class=\"dataframe\">\n",
              "  <thead>\n",
              "    <tr style=\"text-align: right;\">\n",
              "      <th></th>\n",
              "      <th>ID</th>\n",
              "      <th>Owner</th>\n",
              "      <th>Address</th>\n",
              "      <th>Curr_Dlq_Tax</th>\n",
              "      <th>Prior_Dlq_Tax</th>\n",
              "      <th>Prior_Dlq_Pnlty</th>\n",
              "    </tr>\n",
              "  </thead>\n",
              "  <tbody>\n",
              "    <tr>\n",
              "      <th>2411</th>\n",
              "      <td>0051B0015600</td>\n",
              "      <td>VEY ROBERT G &amp; DOLORES</td>\n",
              "      <td>5134 FRIENDSHIP AVE</td>\n",
              "      <td>2978.22</td>\n",
              "      <td>8880.81</td>\n",
              "      <td>1825.43</td>\n",
              "    </tr>\n",
              "  </tbody>\n",
              "</table>\n",
              "</div>"
            ],
            "text/plain": [
              "                ID                   Owner  ... Prior_Dlq_Tax  Prior_Dlq_Pnlty\n",
              "2411  0051B0015600  VEY ROBERT G & DOLORES  ...       8880.81          1825.43\n",
              "\n",
              "[1 rows x 6 columns]"
            ]
          },
          "metadata": {
            "tags": []
          },
          "execution_count": 36
        }
      ]
    },
    {
      "cell_type": "code",
      "metadata": {
        "id": "9f3kzoTiW82K"
      },
      "source": [
        "df.to_csv('pghPAgov.csv')"
      ],
      "execution_count": null,
      "outputs": []
    },
    {
      "cell_type": "code",
      "metadata": {
        "id": "P68Ef_heTwW5",
        "outputId": "1421cb62-1427-4095-8e88-3f07742c6bb8",
        "colab": {
          "resources": {
            "http://localhost:8080/nbextensions/google.colab/files.js": {
              "data": "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",
              "ok": true,
              "headers": [
                [
                  "content-type",
                  "application/javascript"
                ]
              ],
              "status": 200,
              "status_text": ""
            }
          },
          "base_uri": "https://localhost:8080/",
          "height": 72
        }
      },
      "source": [
        "# import csv instead of rerunning entire notebook\n",
        "import pandas as pd\n",
        "import numpy as np\n",
        "from google.colab import files\n",
        "\n",
        "upload = files.upload()"
      ],
      "execution_count": null,
      "outputs": [
        {
          "output_type": "display_data",
          "data": {
            "text/html": [
              "\n",
              "     <input type=\"file\" id=\"files-8bc96cd4-21c0-46e9-8ca4-63757787007e\" name=\"files[]\" multiple disabled\n",
              "        style=\"border:none\" />\n",
              "     <output id=\"result-8bc96cd4-21c0-46e9-8ca4-63757787007e\">\n",
              "      Upload widget is only available when the cell has been executed in the\n",
              "      current browser session. Please rerun this cell to enable.\n",
              "      </output>\n",
              "      <script src=\"/nbextensions/google.colab/files.js\"></script> "
            ],
            "text/plain": [
              "<IPython.core.display.HTML object>"
            ]
          },
          "metadata": {
            "tags": []
          }
        },
        {
          "output_type": "stream",
          "text": [
            "Saving pghPAgov.csv to pghPAgov.csv\n"
          ],
          "name": "stdout"
        }
      ]
    },
    {
      "cell_type": "code",
      "metadata": {
        "id": "GtOdNcSUUCwQ",
        "outputId": "f7f1d2ba-e8b9-4b49-c08e-39b06c5a0bb9",
        "colab": {
          "base_uri": "https://localhost:8080/",
          "height": 419
        }
      },
      "source": [
        "df = pd.read_csv('pghPAgov.csv',index_col=0)\n",
        "df"
      ],
      "execution_count": null,
      "outputs": [
        {
          "output_type": "execute_result",
          "data": {
            "text/html": [
              "<div>\n",
              "<style scoped>\n",
              "    .dataframe tbody tr th:only-of-type {\n",
              "        vertical-align: middle;\n",
              "    }\n",
              "\n",
              "    .dataframe tbody tr th {\n",
              "        vertical-align: top;\n",
              "    }\n",
              "\n",
              "    .dataframe thead th {\n",
              "        text-align: right;\n",
              "    }\n",
              "</style>\n",
              "<table border=\"1\" class=\"dataframe\">\n",
              "  <thead>\n",
              "    <tr style=\"text-align: right;\">\n",
              "      <th></th>\n",
              "      <th>ID</th>\n",
              "      <th>Owner</th>\n",
              "      <th>Address</th>\n",
              "      <th>Curr_Dlq_Tax</th>\n",
              "      <th>Prior_Dlq_Tax</th>\n",
              "      <th>Prior_Dlq_Pnlty</th>\n",
              "    </tr>\n",
              "  </thead>\n",
              "  <tbody>\n",
              "    <tr>\n",
              "      <th>0</th>\n",
              "      <td>0001C00228000100</td>\n",
              "      <td>TOWN DEVELOPMENT INC</td>\n",
              "      <td>100 FORBES AVE</td>\n",
              "      <td>$0.00</td>\n",
              "      <td>$2,047.17</td>\n",
              "      <td>$0.00</td>\n",
              "    </tr>\n",
              "    <tr>\n",
              "      <th>1</th>\n",
              "      <td>0001C00228000200</td>\n",
              "      <td>TOWN DEVELOPMENT INC</td>\n",
              "      <td>424 STANWIX ST</td>\n",
              "      <td>$10,290.69</td>\n",
              "      <td>$14,443.62</td>\n",
              "      <td>$0.00</td>\n",
              "    </tr>\n",
              "    <tr>\n",
              "      <th>2</th>\n",
              "      <td>0001C00228000400</td>\n",
              "      <td>TOWN DEVELOPMENT INC</td>\n",
              "      <td>424 STANWIX ST</td>\n",
              "      <td>$0.00</td>\n",
              "      <td>$32,735.42</td>\n",
              "      <td>$272.79</td>\n",
              "    </tr>\n",
              "    <tr>\n",
              "      <th>3</th>\n",
              "      <td>0001D0011700</td>\n",
              "      <td>502-510 LIBERTY AVE LP</td>\n",
              "      <td>502 LIBERTY AVE</td>\n",
              "      <td>$23,281.50</td>\n",
              "      <td>$0.00</td>\n",
              "      <td>$0.00</td>\n",
              "    </tr>\n",
              "    <tr>\n",
              "      <th>4</th>\n",
              "      <td>0001D0014400</td>\n",
              "      <td>ALEX I LLC</td>\n",
              "      <td>431 MARKET ST</td>\n",
              "      <td>$4,648.99</td>\n",
              "      <td>$6,931.49</td>\n",
              "      <td>$462.09</td>\n",
              "    </tr>\n",
              "    <tr>\n",
              "      <th>...</th>\n",
              "      <td>...</td>\n",
              "      <td>...</td>\n",
              "      <td>...</td>\n",
              "      <td>...</td>\n",
              "      <td>...</td>\n",
              "      <td>...</td>\n",
              "    </tr>\n",
              "    <tr>\n",
              "      <th>21612</th>\n",
              "      <td>0033M0019300</td>\n",
              "      <td>MALLOY RITA A</td>\n",
              "      <td>519 GIFFIN AVE</td>\n",
              "      <td>$66.23</td>\n",
              "      <td>$418.18</td>\n",
              "      <td>$165.63</td>\n",
              "    </tr>\n",
              "    <tr>\n",
              "      <th>21613</th>\n",
              "      <td>0033M0019800</td>\n",
              "      <td>KACHMAR RONALD R &amp; LYNETTE M (W)</td>\n",
              "      <td>509 GIFFIN AVE</td>\n",
              "      <td>$71.21</td>\n",
              "      <td>$0.00</td>\n",
              "      <td>$0.00</td>\n",
              "    </tr>\n",
              "    <tr>\n",
              "      <th>21614</th>\n",
              "      <td>0033M0029800</td>\n",
              "      <td>LEDDY ROBERT N &amp; NANCY L</td>\n",
              "      <td>910 TRANSVERSE AVE</td>\n",
              "      <td>$145.27</td>\n",
              "      <td>$406.92</td>\n",
              "      <td>$67.72</td>\n",
              "    </tr>\n",
              "    <tr>\n",
              "      <th>21615</th>\n",
              "      <td>0033R0000700</td>\n",
              "      <td>LOVE NICOLE</td>\n",
              "      <td>312 QUINCY AVE</td>\n",
              "      <td>$473.62</td>\n",
              "      <td>$0.00</td>\n",
              "      <td>$0.00</td>\n",
              "    </tr>\n",
              "    <tr>\n",
              "      <th>21616</th>\n",
              "      <td>0033S0006000</td>\n",
              "      <td>REICHARD LISA H</td>\n",
              "      <td>0 TRANSVERSE AVE</td>\n",
              "      <td>$0.00</td>\n",
              "      <td>$53.14</td>\n",
              "      <td>$16.61</td>\n",
              "    </tr>\n",
              "  </tbody>\n",
              "</table>\n",
              "<p>21617 rows × 6 columns</p>\n",
              "</div>"
            ],
            "text/plain": [
              "                     ID  ... Prior_Dlq_Pnlty\n",
              "0      0001C00228000100  ...           $0.00\n",
              "1      0001C00228000200  ...           $0.00\n",
              "2      0001C00228000400  ...         $272.79\n",
              "3          0001D0011700  ...           $0.00\n",
              "4          0001D0014400  ...         $462.09\n",
              "...                 ...  ...             ...\n",
              "21612      0033M0019300  ...         $165.63\n",
              "21613      0033M0019800  ...           $0.00\n",
              "21614      0033M0029800  ...          $67.72\n",
              "21615      0033R0000700  ...           $0.00\n",
              "21616      0033S0006000  ...          $16.61\n",
              "\n",
              "[21617 rows x 6 columns]"
            ]
          },
          "metadata": {
            "tags": []
          },
          "execution_count": 5
        }
      ]
    },
    {
      "cell_type": "code",
      "metadata": {
        "id": "b7ye_YNyp3vk",
        "outputId": "0c4c3f9f-6e95-498f-87f4-f9b440cf0b74",
        "colab": {
          "base_uri": "https://localhost:8080/",
          "height": 419
        }
      },
      "source": [
        "# convert tax numbers to floats\n",
        "df['Curr_Dlq_Tax'] = df['Curr_Dlq_Tax'].replace('\\$|,', '', regex=True)\n",
        "df['Curr_Dlq_Tax'] = pd.to_numeric(df['Curr_Dlq_Tax'])\n",
        "\n",
        "df['Prior_Dlq_Tax'] = df['Prior_Dlq_Tax'].replace('\\$|,', '', regex=True)\n",
        "df['Prior_Dlq_Tax'] = pd.to_numeric(df['Prior_Dlq_Tax'])\n",
        "\n",
        "df['Prior_Dlq_Pnlty'] = df['Prior_Dlq_Pnlty'].replace('\\$|,', '', regex=True)\n",
        "df['Prior_Dlq_Pnlty'] = pd.to_numeric(df['Prior_Dlq_Pnlty'])\n",
        "\n",
        "df"
      ],
      "execution_count": null,
      "outputs": [
        {
          "output_type": "execute_result",
          "data": {
            "text/html": [
              "<div>\n",
              "<style scoped>\n",
              "    .dataframe tbody tr th:only-of-type {\n",
              "        vertical-align: middle;\n",
              "    }\n",
              "\n",
              "    .dataframe tbody tr th {\n",
              "        vertical-align: top;\n",
              "    }\n",
              "\n",
              "    .dataframe thead th {\n",
              "        text-align: right;\n",
              "    }\n",
              "</style>\n",
              "<table border=\"1\" class=\"dataframe\">\n",
              "  <thead>\n",
              "    <tr style=\"text-align: right;\">\n",
              "      <th></th>\n",
              "      <th>ID</th>\n",
              "      <th>Owner</th>\n",
              "      <th>Address</th>\n",
              "      <th>Curr_Dlq_Tax</th>\n",
              "      <th>Prior_Dlq_Tax</th>\n",
              "      <th>Prior_Dlq_Pnlty</th>\n",
              "    </tr>\n",
              "  </thead>\n",
              "  <tbody>\n",
              "    <tr>\n",
              "      <th>0</th>\n",
              "      <td>0001C00228000100</td>\n",
              "      <td>TOWN DEVELOPMENT INC</td>\n",
              "      <td>100 FORBES AVE</td>\n",
              "      <td>0.00</td>\n",
              "      <td>2047.17</td>\n",
              "      <td>0.00</td>\n",
              "    </tr>\n",
              "    <tr>\n",
              "      <th>1</th>\n",
              "      <td>0001C00228000200</td>\n",
              "      <td>TOWN DEVELOPMENT INC</td>\n",
              "      <td>424 STANWIX ST</td>\n",
              "      <td>10290.69</td>\n",
              "      <td>14443.62</td>\n",
              "      <td>0.00</td>\n",
              "    </tr>\n",
              "    <tr>\n",
              "      <th>2</th>\n",
              "      <td>0001C00228000400</td>\n",
              "      <td>TOWN DEVELOPMENT INC</td>\n",
              "      <td>424 STANWIX ST</td>\n",
              "      <td>0.00</td>\n",
              "      <td>32735.42</td>\n",
              "      <td>272.79</td>\n",
              "    </tr>\n",
              "    <tr>\n",
              "      <th>3</th>\n",
              "      <td>0001D0011700</td>\n",
              "      <td>502-510 LIBERTY AVE LP</td>\n",
              "      <td>502 LIBERTY AVE</td>\n",
              "      <td>23281.50</td>\n",
              "      <td>0.00</td>\n",
              "      <td>0.00</td>\n",
              "    </tr>\n",
              "    <tr>\n",
              "      <th>4</th>\n",
              "      <td>0001D0014400</td>\n",
              "      <td>ALEX I LLC</td>\n",
              "      <td>431 MARKET ST</td>\n",
              "      <td>4648.99</td>\n",
              "      <td>6931.49</td>\n",
              "      <td>462.09</td>\n",
              "    </tr>\n",
              "    <tr>\n",
              "      <th>...</th>\n",
              "      <td>...</td>\n",
              "      <td>...</td>\n",
              "      <td>...</td>\n",
              "      <td>...</td>\n",
              "      <td>...</td>\n",
              "      <td>...</td>\n",
              "    </tr>\n",
              "    <tr>\n",
              "      <th>21612</th>\n",
              "      <td>0033M0019300</td>\n",
              "      <td>MALLOY RITA A</td>\n",
              "      <td>519 GIFFIN AVE</td>\n",
              "      <td>66.23</td>\n",
              "      <td>418.18</td>\n",
              "      <td>165.63</td>\n",
              "    </tr>\n",
              "    <tr>\n",
              "      <th>21613</th>\n",
              "      <td>0033M0019800</td>\n",
              "      <td>KACHMAR RONALD R &amp; LYNETTE M (W)</td>\n",
              "      <td>509 GIFFIN AVE</td>\n",
              "      <td>71.21</td>\n",
              "      <td>0.00</td>\n",
              "      <td>0.00</td>\n",
              "    </tr>\n",
              "    <tr>\n",
              "      <th>21614</th>\n",
              "      <td>0033M0029800</td>\n",
              "      <td>LEDDY ROBERT N &amp; NANCY L</td>\n",
              "      <td>910 TRANSVERSE AVE</td>\n",
              "      <td>145.27</td>\n",
              "      <td>406.92</td>\n",
              "      <td>67.72</td>\n",
              "    </tr>\n",
              "    <tr>\n",
              "      <th>21615</th>\n",
              "      <td>0033R0000700</td>\n",
              "      <td>LOVE NICOLE</td>\n",
              "      <td>312 QUINCY AVE</td>\n",
              "      <td>473.62</td>\n",
              "      <td>0.00</td>\n",
              "      <td>0.00</td>\n",
              "    </tr>\n",
              "    <tr>\n",
              "      <th>21616</th>\n",
              "      <td>0033S0006000</td>\n",
              "      <td>REICHARD LISA H</td>\n",
              "      <td>0 TRANSVERSE AVE</td>\n",
              "      <td>0.00</td>\n",
              "      <td>53.14</td>\n",
              "      <td>16.61</td>\n",
              "    </tr>\n",
              "  </tbody>\n",
              "</table>\n",
              "<p>21617 rows × 6 columns</p>\n",
              "</div>"
            ],
            "text/plain": [
              "                     ID  ... Prior_Dlq_Pnlty\n",
              "0      0001C00228000100  ...            0.00\n",
              "1      0001C00228000200  ...            0.00\n",
              "2      0001C00228000400  ...          272.79\n",
              "3          0001D0011700  ...            0.00\n",
              "4          0001D0014400  ...          462.09\n",
              "...                 ...  ...             ...\n",
              "21612      0033M0019300  ...          165.63\n",
              "21613      0033M0019800  ...            0.00\n",
              "21614      0033M0029800  ...           67.72\n",
              "21615      0033R0000700  ...            0.00\n",
              "21616      0033S0006000  ...           16.61\n",
              "\n",
              "[21617 rows x 6 columns]"
            ]
          },
          "metadata": {
            "tags": []
          },
          "execution_count": 6
        }
      ]
    },
    {
      "cell_type": "code",
      "metadata": {
        "id": "LdVY8l2Fo3Du",
        "outputId": "7869655e-459a-4fbe-936f-69da3995cb90",
        "colab": {
          "base_uri": "https://localhost:8080/",
          "height": 296
        }
      },
      "source": [
        "df.Curr_Dlq_Tax.plot(xlabel='# of properties',ylabel='Current Deliquent Taxes')"
      ],
      "execution_count": null,
      "outputs": [
        {
          "output_type": "execute_result",
          "data": {
            "text/plain": [
              "<matplotlib.axes._subplots.AxesSubplot at 0x7fe8b3abfbe0>"
            ]
          },
          "metadata": {
            "tags": []
          },
          "execution_count": 7
        },
        {
          "output_type": "display_data",
          "data": {
            "image/png": "[encoded data removed]",
            "text/plain": [
              "<Figure size 432x288 with 1 Axes>"
            ]
          },
          "metadata": {
            "tags": [],
            "needs_background": "light"
          }
        }
      ]
    },
    {
      "cell_type": "code",
      "metadata": {
        "id": "_Mq7KjROpGud",
        "outputId": "9dd73662-8238-41e4-dc27-72a58f65e91d",
        "colab": {
          "base_uri": "https://localhost:8080/",
          "height": 299
        }
      },
      "source": [
        "# subset = df[df.Curr_Dlq_Tax > 2000]\n",
        "# subset = subset[subset.Curr_Dlq_Tax < 8000]\n",
        "# print(len(subset))\n",
        "# subset.head()\n",
        "\n",
        "# now do 1500-2000\n",
        "subset = df[df.Curr_Dlq_Tax > 1500]\n",
        "subset = subset[subset.Curr_Dlq_Tax < 2000]\n",
        "print(len(subset))\n",
        "\n",
        "\n",
        "# min 9000-10000 250000 for dlq tax\n",
        "\n",
        "# market value 150000-350000\n",
        "#subset.Curr_Dlq_Tax.plot(xlabel='# of properties',ylabel='Current Deliquent Taxes')\n",
        "subset.Curr_Dlq_Tax.hist()"
      ],
      "execution_count": null,
      "outputs": [
        {
          "output_type": "stream",
          "text": [
            "852\n"
          ],
          "name": "stdout"
        },
        {
          "output_type": "execute_result",
          "data": {
            "text/plain": [
              "<matplotlib.axes._subplots.AxesSubplot at 0x7fe8b3c4e9b0>"
            ]
          },
          "metadata": {
            "tags": []
          },
          "execution_count": 9
        },
        {
          "output_type": "display_data",
          "data": {
            "image/png": "[encoded data removed]",
            "text/plain": [
              "<Figure size 432x288 with 1 Axes>"
            ]
          },
          "metadata": {
            "tags": [],
            "needs_background": "light"
          }
        }
      ]
    },
    {
      "cell_type": "code",
      "metadata": {
        "id": "a6ItwtOGA_DK",
        "outputId": "1cbd260c-8190-4089-9030-b6f3c37a2a41",
        "colab": {
          "base_uri": "https://localhost:8080/",
          "height": 396
        }
      },
      "source": [
        "subset[0:9]"
      ],
      "execution_count": null,
      "outputs": [
        {
          "output_type": "execute_result",
          "data": {
            "text/html": [
              "<div>\n",
              "<style scoped>\n",
              "    .dataframe tbody tr th:only-of-type {\n",
              "        vertical-align: middle;\n",
              "    }\n",
              "\n",
              "    .dataframe tbody tr th {\n",
              "        vertical-align: top;\n",
              "    }\n",
              "\n",
              "    .dataframe thead th {\n",
              "        text-align: right;\n",
              "    }\n",
              "</style>\n",
              "<table border=\"1\" class=\"dataframe\">\n",
              "  <thead>\n",
              "    <tr style=\"text-align: right;\">\n",
              "      <th></th>\n",
              "      <th>ID</th>\n",
              "      <th>Owner</th>\n",
              "      <th>Address</th>\n",
              "      <th>Curr_Dlq_Tax</th>\n",
              "      <th>Prior_Dlq_Tax</th>\n",
              "      <th>Prior_Dlq_Pnlty</th>\n",
              "    </tr>\n",
              "  </thead>\n",
              "  <tbody>\n",
              "    <tr>\n",
              "      <th>28</th>\n",
              "      <td>0001M00055000100</td>\n",
              "      <td>FORT PITT ASSOCIATES LP</td>\n",
              "      <td>414 1ST AVE</td>\n",
              "      <td>1818.70</td>\n",
              "      <td>1205.16</td>\n",
              "      <td>80.35</td>\n",
              "    </tr>\n",
              "    <tr>\n",
              "      <th>32</th>\n",
              "      <td>0002G0002500</td>\n",
              "      <td>WILLIAMS SAL &amp; IRENE (W)</td>\n",
              "      <td>1108 5TH AVE</td>\n",
              "      <td>1835.14</td>\n",
              "      <td>1824.08</td>\n",
              "      <td>121.61</td>\n",
              "    </tr>\n",
              "    <tr>\n",
              "      <th>33</th>\n",
              "      <td>0002G0002600</td>\n",
              "      <td>WILLIAMS SAL  &amp; IRENE (W)</td>\n",
              "      <td>1108 5TH AVE</td>\n",
              "      <td>1870.57</td>\n",
              "      <td>0.00</td>\n",
              "      <td>0.00</td>\n",
              "    </tr>\n",
              "    <tr>\n",
              "      <th>58</th>\n",
              "      <td>0011E0000900</td>\n",
              "      <td>WILLIAMS SAL</td>\n",
              "      <td>1712 5TH AVE</td>\n",
              "      <td>1606.88</td>\n",
              "      <td>0.00</td>\n",
              "      <td>0.00</td>\n",
              "    </tr>\n",
              "    <tr>\n",
              "      <th>91</th>\n",
              "      <td>0011J0027300</td>\n",
              "      <td>RENNER RENEE</td>\n",
              "      <td>1830 LOCUST ST</td>\n",
              "      <td>1763.91</td>\n",
              "      <td>5259.87</td>\n",
              "      <td>891.23</td>\n",
              "    </tr>\n",
              "    <tr>\n",
              "      <th>119</th>\n",
              "      <td>0001C01661A5700</td>\n",
              "      <td>FREEDOM NOW HOME CARE  LLC</td>\n",
              "      <td>320 FORT DUQUESNE BLVD STE 120</td>\n",
              "      <td>1588.62</td>\n",
              "      <td>0.00</td>\n",
              "      <td>0.00</td>\n",
              "    </tr>\n",
              "    <tr>\n",
              "      <th>127</th>\n",
              "      <td>0001C01662018100</td>\n",
              "      <td>ANTONUCCI JOHN</td>\n",
              "      <td>320 FORT DUQUESNE BLVD UNIT 18-A</td>\n",
              "      <td>1974.96</td>\n",
              "      <td>0.00</td>\n",
              "      <td>0.00</td>\n",
              "    </tr>\n",
              "    <tr>\n",
              "      <th>130</th>\n",
              "      <td>0001C01662041000</td>\n",
              "      <td>ZENG XIAOSI</td>\n",
              "      <td>320 FORT DUQUESNE BLVD UNIT 4-J</td>\n",
              "      <td>1752.96</td>\n",
              "      <td>0.00</td>\n",
              "      <td>0.00</td>\n",
              "    </tr>\n",
              "    <tr>\n",
              "      <th>132</th>\n",
              "      <td>0001C01662101400</td>\n",
              "      <td>CAMINITE DENISE</td>\n",
              "      <td>320 FORT DUQUESNE BLVD UNIT 10-N</td>\n",
              "      <td>1668.97</td>\n",
              "      <td>0.00</td>\n",
              "      <td>0.00</td>\n",
              "    </tr>\n",
              "  </tbody>\n",
              "</table>\n",
              "</div>"
            ],
            "text/plain": [
              "                   ID  ... Prior_Dlq_Pnlty\n",
              "28   0001M00055000100  ...           80.35\n",
              "32       0002G0002500  ...          121.61\n",
              "33       0002G0002600  ...            0.00\n",
              "58       0011E0000900  ...            0.00\n",
              "91       0011J0027300  ...          891.23\n",
              "119   0001C01661A5700  ...            0.00\n",
              "127  0001C01662018100  ...            0.00\n",
              "130  0001C01662041000  ...            0.00\n",
              "132  0001C01662101400  ...            0.00\n",
              "\n",
              "[9 rows x 6 columns]"
            ]
          },
          "metadata": {
            "tags": []
          },
          "execution_count": 10
        }
      ]
    },
    {
      "cell_type": "code",
      "metadata": {
        "id": "P5QTedRa0ND6"
      },
      "source": [
        "subset.to_csv('taxdlq_subset.csv')"
      ],
      "execution_count": null,
      "outputs": []
    },
    {
      "cell_type": "code",
      "metadata": {
        "id": "DJqqVXMqWB8s"
      },
      "source": [
        "# questions\n",
        "# residential or just commercial?\n",
        "# what type of debt numbers do we want?\n",
        "# what info do we want from the allegheny website?\n",
        "# MLS login info"
      ],
      "execution_count": null,
      "outputs": []
    },
    {
      "cell_type": "code",
      "metadata": {
        "id": "m207Qc0r7h3W",
        "outputId": "2f69957d-0bd3-46ea-bd66-411f334e4503",
        "colab": {
          "resources": {
            "http://localhost:8080/nbextensions/google.colab/files.js": {
              "data": "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",
              "ok": true,
              "headers": [
                [
                  "content-type",
                  "application/javascript"
                ]
              ],
              "status": 200,
              "status_text": ""
            }
          },
          "base_uri": "https://localhost:8080/",
          "height": 72
        }
      },
      "source": [
        "# import new csv instead of rerunning entire notebook\n",
        "import pandas as pd\n",
        "import numpy as np\n",
        "from google.colab import files\n",
        "\n",
        "upload = files.upload()"
      ],
      "execution_count": null,
      "outputs": [
        {
          "output_type": "display_data",
          "data": {
            "text/html": [
              "\n",
              "     <input type=\"file\" id=\"files-dd80b4a9-86ed-4de4-835f-560e1507bab8\" name=\"files[]\" multiple disabled\n",
              "        style=\"border:none\" />\n",
              "     <output id=\"result-dd80b4a9-86ed-4de4-835f-560e1507bab8\">\n",
              "      Upload widget is only available when the cell has been executed in the\n",
              "      current browser session. Please rerun this cell to enable.\n",
              "      </output>\n",
              "      <script src=\"/nbextensions/google.colab/files.js\"></script> "
            ],
            "text/plain": [
              "<IPython.core.display.HTML object>"
            ]
          },
          "metadata": {
            "tags": []
          }
        },
        {
          "output_type": "stream",
          "text": [
            "Saving search_allegheny_8000to100000.csv to search_allegheny_8000to100000.csv\n"
          ],
          "name": "stdout"
        }
      ]
    },
    {
      "cell_type": "code",
      "metadata": {
        "id": "WS-JYEWY7r4B",
        "outputId": "e2999e46-57d5-4107-c619-ca0abac76736",
        "colab": {
          "base_uri": "https://localhost:8080/",
          "height": 411
        }
      },
      "source": [
        "results = pd.read_csv('search_allegheny_8000to100000.csv',index_col=0)\n",
        "print(results.shape)\n",
        "results.head()"
      ],
      "execution_count": null,
      "outputs": [
        {
          "output_type": "stream",
          "text": [
            "(171, 14)\n"
          ],
          "name": "stdout"
        },
        {
          "output_type": "execute_result",
          "data": {
            "text/html": [
              "<div>\n",
              "<style scoped>\n",
              "    .dataframe tbody tr th:only-of-type {\n",
              "        vertical-align: middle;\n",
              "    }\n",
              "\n",
              "    .dataframe tbody tr th {\n",
              "        vertical-align: top;\n",
              "    }\n",
              "\n",
              "    .dataframe thead th {\n",
              "        text-align: right;\n",
              "    }\n",
              "</style>\n",
              "<table border=\"1\" class=\"dataframe\">\n",
              "  <thead>\n",
              "    <tr style=\"text-align: right;\">\n",
              "      <th></th>\n",
              "      <th>ID</th>\n",
              "      <th>Owner</th>\n",
              "      <th>Address</th>\n",
              "      <th>Curr_Dlq_Tax</th>\n",
              "      <th>Prior_Dlq_Tax</th>\n",
              "      <th>Prior_Dlq_Pnlty</th>\n",
              "      <th>2020_Status</th>\n",
              "      <th>2020_TtlTaxDue</th>\n",
              "      <th>Mkt_Value</th>\n",
              "      <th>Yrs_Unpaid</th>\n",
              "      <th>Type</th>\n",
              "      <th>Use</th>\n",
              "      <th>Yr_Bought</th>\n",
              "      <th>Owner_Code</th>\n",
              "    </tr>\n",
              "  </thead>\n",
              "  <tbody>\n",
              "    <tr>\n",
              "      <th>1</th>\n",
              "      <td>0001C00228000200</td>\n",
              "      <td>TOWN DEVELOPMENT INC</td>\n",
              "      <td>424 STANWIX ST</td>\n",
              "      <td>10290.69</td>\n",
              "      <td>14443.62</td>\n",
              "      <td>0.0</td>\n",
              "      <td>NaN</td>\n",
              "      <td>NaN</td>\n",
              "      <td>NaN</td>\n",
              "      <td>0</td>\n",
              "      <td>NaN</td>\n",
              "      <td>NaN</td>\n",
              "      <td>NaN</td>\n",
              "      <td>NaN</td>\n",
              "    </tr>\n",
              "    <tr>\n",
              "      <th>3</th>\n",
              "      <td>0001D0011700</td>\n",
              "      <td>502-510 LIBERTY AVE LP</td>\n",
              "      <td>502 LIBERTY AVE</td>\n",
              "      <td>23281.50</td>\n",
              "      <td>0.00</td>\n",
              "      <td>0.0</td>\n",
              "      <td>NaN</td>\n",
              "      <td>NaN</td>\n",
              "      <td>NaN</td>\n",
              "      <td>0</td>\n",
              "      <td>NaN</td>\n",
              "      <td>NaN</td>\n",
              "      <td>NaN</td>\n",
              "      <td>NaN</td>\n",
              "    </tr>\n",
              "    <tr>\n",
              "      <th>5</th>\n",
              "      <td>0001G0015100</td>\n",
              "      <td>PITTSBURGH PRESS  BUILDING ASSOCIATES LP</td>\n",
              "      <td>34 BLVD OF THE ALLIES</td>\n",
              "      <td>71214.00</td>\n",
              "      <td>0.00</td>\n",
              "      <td>0.0</td>\n",
              "      <td>NaN</td>\n",
              "      <td>NaN</td>\n",
              "      <td>NaN</td>\n",
              "      <td>0</td>\n",
              "      <td>NaN</td>\n",
              "      <td>NaN</td>\n",
              "      <td>NaN</td>\n",
              "      <td>NaN</td>\n",
              "    </tr>\n",
              "    <tr>\n",
              "      <th>19</th>\n",
              "      <td>0001M0000400</td>\n",
              "      <td>CROWDAMERICA FORT PITT  LLC</td>\n",
              "      <td>227 FORT PITT BLVD</td>\n",
              "      <td>9225.68</td>\n",
              "      <td>0.00</td>\n",
              "      <td>0.0</td>\n",
              "      <td>BALANCE DUE</td>\n",
              "      <td>$1,480.97</td>\n",
              "      <td>$1,319,800</td>\n",
              "      <td>2</td>\n",
              "      <td>Commercial</td>\n",
              "      <td>OFFICE-ELEVATOR -3 + STORIES</td>\n",
              "      <td>2/17/2016</td>\n",
              "      <td>Corporation</td>\n",
              "    </tr>\n",
              "    <tr>\n",
              "      <th>25</th>\n",
              "      <td>0001M0004100</td>\n",
              "      <td>FORT PITT ASSOCIATES LP</td>\n",
              "      <td>418 1ST AVE</td>\n",
              "      <td>9575.54</td>\n",
              "      <td>6345.24</td>\n",
              "      <td>423.0</td>\n",
              "      <td>UNPAID</td>\n",
              "      <td>$2,480.41</td>\n",
              "      <td>$524,400</td>\n",
              "      <td>2</td>\n",
              "      <td>Commercial</td>\n",
              "      <td>OFFICE/WAREHOUSE</td>\n",
              "      <td>5/1/2014</td>\n",
              "      <td>Corporation</td>\n",
              "    </tr>\n",
              "  </tbody>\n",
              "</table>\n",
              "</div>"
            ],
            "text/plain": [
              "                  ID  ...   Owner_Code\n",
              "1   0001C00228000200  ...          NaN\n",
              "3       0001D0011700  ...          NaN\n",
              "5       0001G0015100  ...          NaN\n",
              "19      0001M0000400  ...  Corporation\n",
              "25      0001M0004100  ...  Corporation\n",
              "\n",
              "[5 rows x 14 columns]"
            ]
          },
          "metadata": {
            "tags": []
          },
          "execution_count": 5
        }
      ]
    },
    {
      "cell_type": "code",
      "metadata": {
        "id": "v8wpZZvI75v3",
        "outputId": "076fb961-1518-424d-fdc3-53e1f3158600",
        "colab": {
          "base_uri": "https://localhost:8080/",
          "height": 394
        }
      },
      "source": [
        "results_sub = results[results['2020_Status'].notnull()]\n",
        "print(results_sub.shape)\n",
        "results_sub.head()"
      ],
      "execution_count": null,
      "outputs": [
        {
          "output_type": "stream",
          "text": [
            "(39, 14)\n"
          ],
          "name": "stdout"
        },
        {
          "output_type": "execute_result",
          "data": {
            "text/html": [
              "<div>\n",
              "<style scoped>\n",
              "    .dataframe tbody tr th:only-of-type {\n",
              "        vertical-align: middle;\n",
              "    }\n",
              "\n",
              "    .dataframe tbody tr th {\n",
              "        vertical-align: top;\n",
              "    }\n",
              "\n",
              "    .dataframe thead th {\n",
              "        text-align: right;\n",
              "    }\n",
              "</style>\n",
              "<table border=\"1\" class=\"dataframe\">\n",
              "  <thead>\n",
              "    <tr style=\"text-align: right;\">\n",
              "      <th></th>\n",
              "      <th>ID</th>\n",
              "      <th>Owner</th>\n",
              "      <th>Address</th>\n",
              "      <th>Curr_Dlq_Tax</th>\n",
              "      <th>Prior_Dlq_Tax</th>\n",
              "      <th>Prior_Dlq_Pnlty</th>\n",
              "      <th>2020_Status</th>\n",
              "      <th>2020_TtlTaxDue</th>\n",
              "      <th>Mkt_Value</th>\n",
              "      <th>Yrs_Unpaid</th>\n",
              "      <th>Type</th>\n",
              "      <th>Use</th>\n",
              "      <th>Yr_Bought</th>\n",
              "      <th>Owner_Code</th>\n",
              "    </tr>\n",
              "  </thead>\n",
              "  <tbody>\n",
              "    <tr>\n",
              "      <th>19</th>\n",
              "      <td>0001M0000400</td>\n",
              "      <td>CROWDAMERICA FORT PITT  LLC</td>\n",
              "      <td>227 FORT PITT BLVD</td>\n",
              "      <td>9225.68</td>\n",
              "      <td>0.00</td>\n",
              "      <td>0.00</td>\n",
              "      <td>BALANCE DUE</td>\n",
              "      <td>$1,480.97</td>\n",
              "      <td>$1,319,800</td>\n",
              "      <td>2</td>\n",
              "      <td>Commercial</td>\n",
              "      <td>OFFICE-ELEVATOR -3 + STORIES</td>\n",
              "      <td>2/17/2016</td>\n",
              "      <td>Corporation</td>\n",
              "    </tr>\n",
              "    <tr>\n",
              "      <th>25</th>\n",
              "      <td>0001M0004100</td>\n",
              "      <td>FORT PITT ASSOCIATES LP</td>\n",
              "      <td>418 1ST AVE</td>\n",
              "      <td>9575.54</td>\n",
              "      <td>6345.24</td>\n",
              "      <td>423.00</td>\n",
              "      <td>UNPAID</td>\n",
              "      <td>$2,480.41</td>\n",
              "      <td>$524,400</td>\n",
              "      <td>2</td>\n",
              "      <td>Commercial</td>\n",
              "      <td>OFFICE/WAREHOUSE</td>\n",
              "      <td>5/1/2014</td>\n",
              "      <td>Corporation</td>\n",
              "    </tr>\n",
              "    <tr>\n",
              "      <th>26</th>\n",
              "      <td>0001M0005200</td>\n",
              "      <td>422 FIRST AVE LP ETAL</td>\n",
              "      <td>432 1ST AVE</td>\n",
              "      <td>15815.00</td>\n",
              "      <td>30239.72</td>\n",
              "      <td>4556.79</td>\n",
              "      <td>UNPAID</td>\n",
              "      <td>$9,583.45</td>\n",
              "      <td>$2,026,100</td>\n",
              "      <td>2</td>\n",
              "      <td>Commercial</td>\n",
              "      <td>RETL/APT'S OVER</td>\n",
              "      <td>3/29/2013</td>\n",
              "      <td>Corporation</td>\n",
              "    </tr>\n",
              "    <tr>\n",
              "      <th>53</th>\n",
              "      <td>0002J0023400</td>\n",
              "      <td>TERIS PETER J &amp; PAULA BABAC (W)</td>\n",
              "      <td>546 2ND AVE</td>\n",
              "      <td>18742.06</td>\n",
              "      <td>0.00</td>\n",
              "      <td>0.00</td>\n",
              "      <td>BALANCE DUE</td>\n",
              "      <td>$2,427.43</td>\n",
              "      <td>$1,026,400</td>\n",
              "      <td>2</td>\n",
              "      <td>Commercial</td>\n",
              "      <td>PARKING GARAGE/LOTS</td>\n",
              "      <td>10/30/2008</td>\n",
              "      <td>Regular</td>\n",
              "    </tr>\n",
              "    <tr>\n",
              "      <th>188</th>\n",
              "      <td>0009N0015800</td>\n",
              "      <td>PENN AVE RENAISSANCE  III LP</td>\n",
              "      <td>907 PENN AVE</td>\n",
              "      <td>27658.03</td>\n",
              "      <td>17720.38</td>\n",
              "      <td>1181.38</td>\n",
              "      <td>UNPAID</td>\n",
              "      <td>$8,372.76</td>\n",
              "      <td>$1,770,140</td>\n",
              "      <td>2</td>\n",
              "      <td>Commercial</td>\n",
              "      <td>RETL/APT'S OVER</td>\n",
              "      <td>8/30/2011</td>\n",
              "      <td>Corporation</td>\n",
              "    </tr>\n",
              "  </tbody>\n",
              "</table>\n",
              "</div>"
            ],
            "text/plain": [
              "               ID                            Owner  ...   Yr_Bought   Owner_Code\n",
              "19   0001M0000400      CROWDAMERICA FORT PITT  LLC  ...   2/17/2016  Corporation\n",
              "25   0001M0004100          FORT PITT ASSOCIATES LP  ...    5/1/2014  Corporation\n",
              "26   0001M0005200            422 FIRST AVE LP ETAL  ...   3/29/2013  Corporation\n",
              "53   0002J0023400  TERIS PETER J & PAULA BABAC (W)  ...  10/30/2008      Regular\n",
              "188  0009N0015800     PENN AVE RENAISSANCE  III LP  ...   8/30/2011  Corporation\n",
              "\n",
              "[5 rows x 14 columns]"
            ]
          },
          "metadata": {
            "tags": []
          },
          "execution_count": 8
        }
      ]
    },
    {
      "cell_type": "code",
      "metadata": {
        "id": "vZnl4ubb83kk",
        "outputId": "ef19ae58-ad71-44dd-9086-a87db8292760",
        "colab": {
          "base_uri": "https://localhost:8080/"
        }
      },
      "source": [
        "print(results_sub.Type.value_counts(),'\\n')\n",
        "print(results_sub.Owner_Code.value_counts(),'\\n')\n",
        "results_sub.Yrs_Unpaid.value_counts()"
      ],
      "execution_count": null,
      "outputs": [
        {
          "output_type": "stream",
          "text": [
            "Commercial     22\n",
            "Industrial      9\n",
            "Residential     6\n",
            "Government      1\n",
            "Other           1\n",
            "Name: Type, dtype: int64 \n",
            "\n",
            "Corporation    27\n",
            "Regular        12\n",
            "Name: Owner_Code, dtype: int64 \n",
            "\n"
          ],
          "name": "stdout"
        },
        {
          "output_type": "execute_result",
          "data": {
            "text/plain": [
              "2    21\n",
              "4     9\n",
              "3     9\n",
              "Name: Yrs_Unpaid, dtype: int64"
            ]
          },
          "metadata": {
            "tags": []
          },
          "execution_count": 17
        }
      ]
    },
    {
      "cell_type": "code",
      "metadata": {
        "id": "LG_JDv7NAQCx",
        "outputId": "f13ec68d-d153-4a52-9887-9e7092bb04a8",
        "colab": {
          "base_uri": "https://localhost:8080/"
        }
      },
      "source": [
        "results_sub['Mkt_Value'] = results_sub['Mkt_Value'].replace('\\$|,', '', regex=True)\n",
        "results_sub['Mkt_Value'] = pd.to_numeric(results_sub['Mkt_Value'])\n",
        "\n",
        "results_sub.Mkt_Value.value_counts()"
      ],
      "execution_count": null,
      "outputs": [
        {
          "output_type": "stream",
          "text": [
            "/usr/local/lib/python3.6/dist-packages/ipykernel_launcher.py:1: SettingWithCopyWarning: \n",
            "A value is trying to be set on a copy of a slice from a DataFrame.\n",
            "Try using .loc[row_indexer,col_indexer] = value instead\n",
            "\n",
            "See the caveats in the documentation: https://pandas.pydata.org/pandas-docs/stable/user_guide/indexing.html#returning-a-view-versus-a-copy\n",
            "  \"\"\"Entry point for launching an IPython kernel.\n",
            "/usr/local/lib/python3.6/dist-packages/ipykernel_launcher.py:2: SettingWithCopyWarning: \n",
            "A value is trying to be set on a copy of a slice from a DataFrame.\n",
            "Try using .loc[row_indexer,col_indexer] = value instead\n",
            "\n",
            "See the caveats in the documentation: https://pandas.pydata.org/pandas-docs/stable/user_guide/indexing.html#returning-a-view-versus-a-copy\n",
            "  \n"
          ],
          "name": "stderr"
        },
        {
          "output_type": "execute_result",
          "data": {
            "text/plain": [
              "500000     2\n",
              "450000     2\n",
              "3897400    1\n",
              "770000     1\n",
              "865300     1\n",
              "500800     1\n",
              "780500     1\n",
              "821600     1\n",
              "621900     1\n",
              "498900     1\n",
              "930200     1\n",
              "472100     1\n",
              "2021000    1\n",
              "522900     1\n",
              "1403500    1\n",
              "871300     1\n",
              "694900     1\n",
              "446200     1\n",
              "494700     1\n",
              "1357500    1\n",
              "680000     1\n",
              "1319800    1\n",
              "634500     1\n",
              "2026100    1\n",
              "631900     1\n",
              "524400     1\n",
              "892400     1\n",
              "610800     1\n",
              "729900     1\n",
              "2054100    1\n",
              "643300     1\n",
              "679000     1\n",
              "3523300    1\n",
              "1026400    1\n",
              "1060000    1\n",
              "1770140    1\n",
              "5000000    1\n",
              "Name: Mkt_Value, dtype: int64"
            ]
          },
          "metadata": {
            "tags": []
          },
          "execution_count": 24
        }
      ]
    },
    {
      "cell_type": "code",
      "metadata": {
        "id": "sDDKII3BCVtr",
        "outputId": "da4f5c3c-8690-4d6a-b5e4-3e6e0ada73d7",
        "colab": {
          "base_uri": "https://localhost:8080/"
        }
      },
      "source": [
        "results_sub.Mkt_Value.min()"
      ],
      "execution_count": null,
      "outputs": [
        {
          "output_type": "execute_result",
          "data": {
            "text/plain": [
              "446200"
            ]
          },
          "metadata": {
            "tags": []
          },
          "execution_count": 25
        }
      ]
    },
    {
      "cell_type": "code",
      "metadata": {
        "id": "VqCR_vMI_ZAd"
      },
      "source": [
        ""
      ],
      "execution_count": null,
      "outputs": []
    }
  ]
}